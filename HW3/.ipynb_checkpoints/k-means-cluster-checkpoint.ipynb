{
 "cells": [
  {
   "cell_type": "code",
   "execution_count": 1,
   "metadata": {},
   "outputs": [],
   "source": [
    "# import numpy and matplotlib\n",
    "import numpy as np\n",
    "import matplotlib.pyplot as plt"
   ]
  },
  {
   "cell_type": "code",
   "execution_count": 3,
   "metadata": {},
   "outputs": [
    {
     "data": {
      "image/png": "[encoded data removed]",
      "text/plain": [
       "<Figure size 432x288 with 1 Axes>"
      ]
     },
     "metadata": {
      "needs_background": "light"
     },
     "output_type": "display_data"
    }
   ],
   "source": [
    "# For the mass & max speed data plot\n",
    "# x axis values - mass\n",
    "x = [2.32, 3.22, 2.49, 3.177, 2.25, 2.5, 3.17, 2.49]\n",
    "# corresponding y axis values - max speed\n",
    "y = [24.49, 151.21, 65.36, 113.58, 35.32, 48.16, 87.94, 13.92]\n",
    "\n",
    "# plotting the points  \n",
    "plt.scatter(x, y, label= \"Original data\", color= \"green\",  \n",
    "            marker= \"*\", s=30) \n",
    "\n",
    "# giving a title to my graph \n",
    "plt.title('WineData_2col') \n",
    "\n",
    "# showing legend \n",
    "plt.legend()\n",
    "  \n",
    "# function to show the plot \n",
    "plt.show() "
   ]
  },
  {
   "cell_type": "code",
   "execution_count": null,
   "metadata": {},
   "outputs": [],
   "source": [
    "# normalized\n",
    "n_x = [2.57, -0.4, -0.36, -0.2, -0.13, -0.11, -0.31, 0.2]\n",
    "# corresponding y axis values - max speed\n",
    "n_y = [-0.72, 0.13, 0.11, 1.34, -0.36, 0.09, -0.21, 0.2]\n",
    "\n",
    "# plotting the points  \n",
    "plt.scatter(n_x, n_y, label= \"Normalized data\", color= \"red\", s=30) \n",
    "\n",
    "# giving a title to my graph \n",
    "plt.title('WineData_2col') \n",
    "\n",
    "# showing legend \n",
    "plt.legend()\n",
    "  \n",
    "# function to show the plot \n",
    "plt.show() "
   ]
  }
 ],
 "metadata": {
  "kernelspec": {
   "display_name": "Python 3",
   "language": "python",
   "name": "python3"
  },
  "language_info": {
   "codemirror_mode": {
    "name": "ipython",
    "version": 3
   },
   "file_extension": ".py",
   "mimetype": "text/x-python",
   "name": "python",
   "nbconvert_exporter": "python",
   "pygments_lexer": "ipython3",
   "version": "3.8.3"
  }
 },
 "nbformat": 4,
 "nbformat_minor": 4
}
